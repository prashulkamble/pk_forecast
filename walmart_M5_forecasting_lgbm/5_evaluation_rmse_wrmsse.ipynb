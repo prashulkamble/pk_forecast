{
 "cells": [
  {
   "cell_type": "markdown",
   "metadata": {},
   "source": [
    "# Note\n",
    "\n",
    "This notebook is based on [for_Japanese_beginner(with WRMSSE in LGBM))](https://www.kaggle.com/girmdshinsei/for-japanese-beginner-with-wrmsse-in-lgbm)\n",
    "\n",
    "I just organised everything as a simple function so anyone could use it to evaluate their models."
   ]
  },
  {
   "cell_type": "code",
   "execution_count": 2,
   "metadata": {},
   "outputs": [],
   "source": [
    "dirct = r'D:\\python_code\\M5 Competition\\m5-forecasting-Dataset\\\\'\n",
    "path2 = r'D:\\python_code\\M5 Competition\\A5_solution\\A5_output2\\\\'"
   ]
  },
  {
   "cell_type": "code",
   "execution_count": 3,
   "metadata": {
    "_cell_guid": "b1076dfc-b9ad-4769-8c92-a6c4dae69d19",
    "_uuid": "8f2839f25d086af736a60e9eeb907d3b93b6e0e5",
    "trusted": true
   },
   "outputs": [],
   "source": [
    "import numpy as np\n",
    "import pandas as pd"
   ]
  },
  {
   "cell_type": "code",
   "execution_count": 5,
   "metadata": {
    "_cell_guid": "79c7e3d0-c299-4dcb-8224-4455121ee9b0",
    "_uuid": "d629ff2d2480ee46fbb7e2d37f6b5fab8052498a",
    "trusted": true
   },
   "outputs": [],
   "source": [
    "def reduce_mem_usage(df, verbose=True):\n",
    "    numerics = ['int16', 'int32', 'int64', 'float16', 'float32', 'float64']\n",
    "    start_mem = df.memory_usage().sum() / 1024**2    \n",
    "    for col in df.columns: #columns毎に処理\n",
    "        col_type = df[col].dtypes\n",
    "        if col_type in numerics: #numericsのデータ型の範囲内のときに処理を実行. データの最大最小値を元にデータ型を効率的なものに変更\n",
    "            c_min = df[col].min()\n",
    "            c_max = df[col].max()\n",
    "            if str(col_type)[:3] == 'int':\n",
    "                if c_min > np.iinfo(np.int8).min and c_max < np.iinfo(np.int8).max:\n",
    "                    df[col] = df[col].astype(np.int8)\n",
    "                elif c_min > np.iinfo(np.int16).min and c_max < np.iinfo(np.int16).max:\n",
    "                    df[col] = df[col].astype(np.int16)\n",
    "                elif c_min > np.iinfo(np.int32).min and c_max < np.iinfo(np.int32).max:\n",
    "                    df[col] = df[col].astype(np.int32)\n",
    "                elif c_min > np.iinfo(np.int64).min and c_max < np.iinfo(np.int64).max:\n",
    "                    df[col] = df[col].astype(np.int64)  \n",
    "            else:\n",
    "                if c_min > np.finfo(np.float16).min and c_max < np.finfo(np.float16).max:\n",
    "                    df[col] = df[col].astype(np.float16)\n",
    "                elif c_min > np.finfo(np.float32).min and c_max < np.finfo(np.float32).max:\n",
    "                    df[col] = df[col].astype(np.float32)\n",
    "                else:\n",
    "                    df[col] = df[col].astype(np.float64)    \n",
    "    end_mem = df.memory_usage().sum() / 1024**2\n",
    "    if verbose: print('Mem. usage decreased to {:5.2f} Mb ({:.1f}% reduction)'.format(end_mem, 100 * (start_mem - end_mem) / start_mem))\n",
    "    return df"
   ]
  },
  {
   "cell_type": "code",
   "execution_count": 8,
   "metadata": {
    "trusted": true
   },
   "outputs": [
    {
     "name": "stdout",
     "output_type": "stream",
     "text": [
      "Mem. usage decreased to  0.12 Mb (41.9% reduction)\n",
      "Calendar has 1969 rows and 14 columns\n",
      "Mem. usage decreased to 130.48 Mb (37.5% reduction)\n",
      "Sell prices has 6841121 rows and 4 columns\n",
      "Sales train validation has 30490 rows and 1947 columns\n",
      "Mem. usage decreased to 96.13 Mb (78.8% reduction)\n"
     ]
    }
   ],
   "source": [
    "\n",
    "calendar = pd.read_csv(dirct + 'calendar.csv')\n",
    "calendar = reduce_mem_usage(calendar)\n",
    "print('Calendar has {} rows and {} columns'.format(calendar.shape[0], calendar.shape[1]))\n",
    "\n",
    "sell_prices = pd.read_csv(dirct + 'sell_prices.csv')\n",
    "sell_prices = reduce_mem_usage(sell_prices)\n",
    "print('Sell prices has {} rows and {} columns'.format(sell_prices.shape[0], sell_prices.shape[1]))\n",
    "\n",
    "sales = pd.read_csv(dirct + 'sales_train_evaluation.csv')\n",
    "print('Sales train validation has {} rows and {} columns'.format(sales.shape[0], sales.shape[1]))\n",
    "sales = reduce_mem_usage(sales)\n",
    "sales.to_csv(dirct + 'sales_train_evaluation2.csv')"
   ]
  },
  {
   "cell_type": "code",
   "execution_count": null,
   "metadata": {},
   "outputs": [],
   "source": []
  },
  {
   "cell_type": "markdown",
   "metadata": {},
   "source": [
    "### Load your submission"
   ]
  },
  {
   "cell_type": "code",
   "execution_count": 32,
   "metadata": {
    "trusted": true
   },
   "outputs": [
    {
     "name": "stderr",
     "output_type": "stream",
     "text": [
      "<>:1: SyntaxWarning: invalid escape sequence '\\p'\n",
      "<>:1: SyntaxWarning: invalid escape sequence '\\p'\n",
      "C:\\Users\\kambl\\AppData\\Local\\Temp\\ipykernel_10412\\4282743015.py:1: SyntaxWarning: invalid escape sequence '\\p'\n",
      "  sample_submission = pd.read_csv('D:\\python_code\\M5 Competition\\A5_solution\\A5_output\\\\' + 'submission_18nov.csv')\n"
     ]
    }
   ],
   "source": [
    "sample_submission = pd.read_csv('D:\\python_code\\M5 Competition\\A5_solution\\A5_output\\\\' + 'submission_18nov.csv')\n",
    "sample_submission = sample_submission[sample_submission.id.str.endswith('validation')]\n",
    "sample_submission = sample_submission.drop_duplicates()\n",
    "NUM_ITEMS = sales.shape[0]    # 30490\n",
    "DAYS_PRED = sample_submission.shape[1] - 1    # 28\n",
    "\n",
    "# To make it simpler, I will run only the last 10 days\n",
    "DAYS_PRED = 28"
   ]
  },
  {
   "cell_type": "markdown",
   "metadata": {},
   "source": [
    "# RMSE"
   ]
  },
  {
   "cell_type": "code",
   "execution_count": 33,
   "metadata": {
    "trusted": true
   },
   "outputs": [],
   "source": [
    "\n",
    "\n",
    "def transform(df):\n",
    "    newdf = df.melt(id_vars=[\"id\"], var_name=\"d\", value_name=\"sale\")\n",
    "    newdf.sort_values(by=['id', \"d\"], inplace=True)\n",
    "    newdf.reset_index(inplace=True)\n",
    "    return newdf\n",
    "\n",
    "from sklearn.metrics import mean_squared_error\n",
    "\n",
    "def rmse(df, gt):\n",
    "    df = transform(df)\n",
    "    gt = transform(gt)\n",
    "    return mean_squared_error(df[\"sale\"], gt[\"sale\"])\n"
   ]
  },
  {
   "cell_type": "code",
   "execution_count": 86,
   "metadata": {
    "trusted": true
   },
   "outputs": [],
   "source": [
    "\n",
    "dayCols = [\"d_{}\".format(i) for i in range(1914, 1913+DAYS_PRED)]\n",
    "gt = sales[[\"id\"]+dayCols]\n",
    "\n",
    "dayCols = [\"F{}\".format(i) for i in range(1, DAYS_PRED+1)]\n",
    "df = sample_submission[[\"id\"]+dayCols]"
   ]
  },
  {
   "cell_type": "code",
   "execution_count": 72,
   "metadata": {
    "trusted": true
   },
   "outputs": [
    {
     "name": "stdout",
     "output_type": "stream",
     "text": [
      "RMSE score =  5.4537701622186345\n"
     ]
    }
   ],
   "source": [
    "# RMSE score\n",
    "rmse_score = rmse(df, gt)\n",
    "print('RMSE score = ', rmse_score)"
   ]
  },
  {
   "cell_type": "code",
   "execution_count": 76,
   "metadata": {},
   "outputs": [
    {
     "data": {
      "text/html": [
       "<div>\n",
       "<style scoped>\n",
       "    .dataframe tbody tr th:only-of-type {\n",
       "        vertical-align: middle;\n",
       "    }\n",
       "\n",
       "    .dataframe tbody tr th {\n",
       "        vertical-align: top;\n",
       "    }\n",
       "\n",
       "    .dataframe thead th {\n",
       "        text-align: right;\n",
       "    }\n",
       "</style>\n",
       "<table border=\"1\" class=\"dataframe\">\n",
       "  <thead>\n",
       "    <tr style=\"text-align: right;\">\n",
       "      <th></th>\n",
       "      <th>d_1914</th>\n",
       "      <th>d_1915</th>\n",
       "      <th>d_1916</th>\n",
       "      <th>d_1917</th>\n",
       "      <th>d_1918</th>\n",
       "      <th>d_1919</th>\n",
       "      <th>d_1920</th>\n",
       "      <th>d_1921</th>\n",
       "      <th>d_1922</th>\n",
       "      <th>d_1923</th>\n",
       "      <th>...</th>\n",
       "      <th>d_1931</th>\n",
       "      <th>d_1932</th>\n",
       "      <th>d_1933</th>\n",
       "      <th>d_1934</th>\n",
       "      <th>d_1935</th>\n",
       "      <th>d_1936</th>\n",
       "      <th>d_1937</th>\n",
       "      <th>d_1938</th>\n",
       "      <th>d_1939</th>\n",
       "      <th>d_1940</th>\n",
       "    </tr>\n",
       "  </thead>\n",
       "  <tbody>\n",
       "    <tr>\n",
       "      <th>0</th>\n",
       "      <td>0</td>\n",
       "      <td>0</td>\n",
       "      <td>0</td>\n",
       "      <td>2</td>\n",
       "      <td>0</td>\n",
       "      <td>3</td>\n",
       "      <td>5</td>\n",
       "      <td>0</td>\n",
       "      <td>0</td>\n",
       "      <td>1</td>\n",
       "      <td>...</td>\n",
       "      <td>0</td>\n",
       "      <td>2</td>\n",
       "      <td>4</td>\n",
       "      <td>0</td>\n",
       "      <td>0</td>\n",
       "      <td>0</td>\n",
       "      <td>0</td>\n",
       "      <td>3</td>\n",
       "      <td>3</td>\n",
       "      <td>0</td>\n",
       "    </tr>\n",
       "    <tr>\n",
       "      <th>1</th>\n",
       "      <td>0</td>\n",
       "      <td>1</td>\n",
       "      <td>0</td>\n",
       "      <td>0</td>\n",
       "      <td>0</td>\n",
       "      <td>0</td>\n",
       "      <td>0</td>\n",
       "      <td>0</td>\n",
       "      <td>0</td>\n",
       "      <td>1</td>\n",
       "      <td>...</td>\n",
       "      <td>0</td>\n",
       "      <td>0</td>\n",
       "      <td>1</td>\n",
       "      <td>2</td>\n",
       "      <td>1</td>\n",
       "      <td>1</td>\n",
       "      <td>0</td>\n",
       "      <td>0</td>\n",
       "      <td>0</td>\n",
       "      <td>0</td>\n",
       "    </tr>\n",
       "    <tr>\n",
       "      <th>2</th>\n",
       "      <td>0</td>\n",
       "      <td>0</td>\n",
       "      <td>1</td>\n",
       "      <td>1</td>\n",
       "      <td>0</td>\n",
       "      <td>2</td>\n",
       "      <td>1</td>\n",
       "      <td>0</td>\n",
       "      <td>0</td>\n",
       "      <td>0</td>\n",
       "      <td>...</td>\n",
       "      <td>0</td>\n",
       "      <td>1</td>\n",
       "      <td>0</td>\n",
       "      <td>2</td>\n",
       "      <td>0</td>\n",
       "      <td>0</td>\n",
       "      <td>0</td>\n",
       "      <td>2</td>\n",
       "      <td>3</td>\n",
       "      <td>0</td>\n",
       "    </tr>\n",
       "    <tr>\n",
       "      <th>3</th>\n",
       "      <td>0</td>\n",
       "      <td>0</td>\n",
       "      <td>1</td>\n",
       "      <td>2</td>\n",
       "      <td>4</td>\n",
       "      <td>1</td>\n",
       "      <td>6</td>\n",
       "      <td>4</td>\n",
       "      <td>0</td>\n",
       "      <td>0</td>\n",
       "      <td>...</td>\n",
       "      <td>1</td>\n",
       "      <td>1</td>\n",
       "      <td>1</td>\n",
       "      <td>0</td>\n",
       "      <td>4</td>\n",
       "      <td>0</td>\n",
       "      <td>1</td>\n",
       "      <td>3</td>\n",
       "      <td>0</td>\n",
       "      <td>2</td>\n",
       "    </tr>\n",
       "    <tr>\n",
       "      <th>4</th>\n",
       "      <td>1</td>\n",
       "      <td>0</td>\n",
       "      <td>2</td>\n",
       "      <td>3</td>\n",
       "      <td>1</td>\n",
       "      <td>0</td>\n",
       "      <td>3</td>\n",
       "      <td>2</td>\n",
       "      <td>3</td>\n",
       "      <td>1</td>\n",
       "      <td>...</td>\n",
       "      <td>2</td>\n",
       "      <td>0</td>\n",
       "      <td>0</td>\n",
       "      <td>0</td>\n",
       "      <td>2</td>\n",
       "      <td>1</td>\n",
       "      <td>0</td>\n",
       "      <td>0</td>\n",
       "      <td>2</td>\n",
       "      <td>1</td>\n",
       "    </tr>\n",
       "    <tr>\n",
       "      <th>...</th>\n",
       "      <td>...</td>\n",
       "      <td>...</td>\n",
       "      <td>...</td>\n",
       "      <td>...</td>\n",
       "      <td>...</td>\n",
       "      <td>...</td>\n",
       "      <td>...</td>\n",
       "      <td>...</td>\n",
       "      <td>...</td>\n",
       "      <td>...</td>\n",
       "      <td>...</td>\n",
       "      <td>...</td>\n",
       "      <td>...</td>\n",
       "      <td>...</td>\n",
       "      <td>...</td>\n",
       "      <td>...</td>\n",
       "      <td>...</td>\n",
       "      <td>...</td>\n",
       "      <td>...</td>\n",
       "      <td>...</td>\n",
       "      <td>...</td>\n",
       "    </tr>\n",
       "    <tr>\n",
       "      <th>30485</th>\n",
       "      <td>0</td>\n",
       "      <td>0</td>\n",
       "      <td>0</td>\n",
       "      <td>2</td>\n",
       "      <td>2</td>\n",
       "      <td>0</td>\n",
       "      <td>0</td>\n",
       "      <td>0</td>\n",
       "      <td>2</td>\n",
       "      <td>0</td>\n",
       "      <td>...</td>\n",
       "      <td>0</td>\n",
       "      <td>1</td>\n",
       "      <td>0</td>\n",
       "      <td>3</td>\n",
       "      <td>0</td>\n",
       "      <td>1</td>\n",
       "      <td>1</td>\n",
       "      <td>0</td>\n",
       "      <td>0</td>\n",
       "      <td>1</td>\n",
       "    </tr>\n",
       "    <tr>\n",
       "      <th>30486</th>\n",
       "      <td>0</td>\n",
       "      <td>1</td>\n",
       "      <td>1</td>\n",
       "      <td>1</td>\n",
       "      <td>0</td>\n",
       "      <td>0</td>\n",
       "      <td>0</td>\n",
       "      <td>0</td>\n",
       "      <td>1</td>\n",
       "      <td>0</td>\n",
       "      <td>...</td>\n",
       "      <td>0</td>\n",
       "      <td>0</td>\n",
       "      <td>0</td>\n",
       "      <td>0</td>\n",
       "      <td>0</td>\n",
       "      <td>0</td>\n",
       "      <td>0</td>\n",
       "      <td>1</td>\n",
       "      <td>0</td>\n",
       "      <td>1</td>\n",
       "    </tr>\n",
       "    <tr>\n",
       "      <th>30487</th>\n",
       "      <td>0</td>\n",
       "      <td>0</td>\n",
       "      <td>1</td>\n",
       "      <td>1</td>\n",
       "      <td>0</td>\n",
       "      <td>2</td>\n",
       "      <td>1</td>\n",
       "      <td>1</td>\n",
       "      <td>0</td>\n",
       "      <td>0</td>\n",
       "      <td>...</td>\n",
       "      <td>1</td>\n",
       "      <td>0</td>\n",
       "      <td>0</td>\n",
       "      <td>1</td>\n",
       "      <td>2</td>\n",
       "      <td>0</td>\n",
       "      <td>1</td>\n",
       "      <td>0</td>\n",
       "      <td>1</td>\n",
       "      <td>0</td>\n",
       "    </tr>\n",
       "    <tr>\n",
       "      <th>30488</th>\n",
       "      <td>1</td>\n",
       "      <td>3</td>\n",
       "      <td>0</td>\n",
       "      <td>1</td>\n",
       "      <td>2</td>\n",
       "      <td>1</td>\n",
       "      <td>0</td>\n",
       "      <td>2</td>\n",
       "      <td>1</td>\n",
       "      <td>1</td>\n",
       "      <td>...</td>\n",
       "      <td>1</td>\n",
       "      <td>1</td>\n",
       "      <td>1</td>\n",
       "      <td>1</td>\n",
       "      <td>4</td>\n",
       "      <td>6</td>\n",
       "      <td>0</td>\n",
       "      <td>1</td>\n",
       "      <td>1</td>\n",
       "      <td>1</td>\n",
       "    </tr>\n",
       "    <tr>\n",
       "      <th>30489</th>\n",
       "      <td>0</td>\n",
       "      <td>0</td>\n",
       "      <td>0</td>\n",
       "      <td>0</td>\n",
       "      <td>0</td>\n",
       "      <td>1</td>\n",
       "      <td>1</td>\n",
       "      <td>1</td>\n",
       "      <td>2</td>\n",
       "      <td>0</td>\n",
       "      <td>...</td>\n",
       "      <td>0</td>\n",
       "      <td>1</td>\n",
       "      <td>2</td>\n",
       "      <td>0</td>\n",
       "      <td>5</td>\n",
       "      <td>4</td>\n",
       "      <td>0</td>\n",
       "      <td>2</td>\n",
       "      <td>2</td>\n",
       "      <td>5</td>\n",
       "    </tr>\n",
       "  </tbody>\n",
       "</table>\n",
       "<p>30490 rows × 27 columns</p>\n",
       "</div>"
      ],
      "text/plain": [
       "       d_1914  d_1915  d_1916  d_1917  d_1918  d_1919  d_1920  d_1921  d_1922  \\\n",
       "0           0       0       0       2       0       3       5       0       0   \n",
       "1           0       1       0       0       0       0       0       0       0   \n",
       "2           0       0       1       1       0       2       1       0       0   \n",
       "3           0       0       1       2       4       1       6       4       0   \n",
       "4           1       0       2       3       1       0       3       2       3   \n",
       "...       ...     ...     ...     ...     ...     ...     ...     ...     ...   \n",
       "30485       0       0       0       2       2       0       0       0       2   \n",
       "30486       0       1       1       1       0       0       0       0       1   \n",
       "30487       0       0       1       1       0       2       1       1       0   \n",
       "30488       1       3       0       1       2       1       0       2       1   \n",
       "30489       0       0       0       0       0       1       1       1       2   \n",
       "\n",
       "       d_1923  ...  d_1931  d_1932  d_1933  d_1934  d_1935  d_1936  d_1937  \\\n",
       "0           1  ...       0       2       4       0       0       0       0   \n",
       "1           1  ...       0       0       1       2       1       1       0   \n",
       "2           0  ...       0       1       0       2       0       0       0   \n",
       "3           0  ...       1       1       1       0       4       0       1   \n",
       "4           1  ...       2       0       0       0       2       1       0   \n",
       "...       ...  ...     ...     ...     ...     ...     ...     ...     ...   \n",
       "30485       0  ...       0       1       0       3       0       1       1   \n",
       "30486       0  ...       0       0       0       0       0       0       0   \n",
       "30487       0  ...       1       0       0       1       2       0       1   \n",
       "30488       1  ...       1       1       1       1       4       6       0   \n",
       "30489       0  ...       0       1       2       0       5       4       0   \n",
       "\n",
       "       d_1938  d_1939  d_1940  \n",
       "0           3       3       0  \n",
       "1           0       0       0  \n",
       "2           2       3       0  \n",
       "3           3       0       2  \n",
       "4           0       2       1  \n",
       "...       ...     ...     ...  \n",
       "30485       0       0       1  \n",
       "30486       1       0       1  \n",
       "30487       0       1       0  \n",
       "30488       1       1       1  \n",
       "30489       2       2       5  \n",
       "\n",
       "[30490 rows x 27 columns]"
      ]
     },
     "execution_count": 76,
     "metadata": {},
     "output_type": "execute_result"
    }
   ],
   "source": [
    "gt[gt.columns[1:]]"
   ]
  },
  {
   "cell_type": "code",
   "execution_count": 87,
   "metadata": {},
   "outputs": [
    {
     "data": {
      "text/plain": [
       "np.float64(0.8737939858817667)"
      ]
     },
     "metadata": {},
     "output_type": "display_data"
    },
    {
     "data": {
      "text/plain": [
       "np.float64(1.1851851851851851)"
      ]
     },
     "metadata": {},
     "output_type": "display_data"
    },
    {
     "name": "stdout",
     "output_type": "stream",
     "text": [
      "Percent prediction sales for a day =  73.72636755877407\n"
     ]
    }
   ],
   "source": [
    "overall_mean_pred = df.iloc[0:1,1: ].values.mean()\n",
    "overall_mean_actual = gt.iloc[0:1,1: ].values.mean()\n",
    "display(overall_mean_pred)\n",
    "display(overall_mean_actual)\n",
    "\n",
    "print('Percent prediction sales for a day = ', overall_mean_pred * 100 /overall_mean_actual)"
   ]
  },
  {
   "cell_type": "code",
   "execution_count": 83,
   "metadata": {},
   "outputs": [
    {
     "data": {
      "text/plain": [
       "np.float64(26.27363244122593)"
      ]
     },
     "execution_count": 83,
     "metadata": {},
     "output_type": "execute_result"
    }
   ],
   "source": [
    "df= (abs(overall_mean_actual - overall_mean_pred) / overall_mean_actual) * 100\n",
    "df"
   ]
  },
  {
   "cell_type": "markdown",
   "metadata": {},
   "source": [
    "# WRMSSE"
   ]
  },
  {
   "cell_type": "markdown",
   "metadata": {},
   "source": [
    "The very simplify version of WRMSSE is\n",
    "\\begin{equation}\n",
    "WRMSSE = \\sum_{i=1}^{42840} (W2_i * \\sqrt{\\frac{\\sum{(y-y')^2}}{W1}})\n",
    "\\end{equation}\n",
    "\n",
    "So the functions below will be seperated into `cal_weight1` and `cal_weight2`. Then, it will be merged together into `wrmsse`\n",
    "\n",
    "````\n",
    "PS. 42840 is the number of series that will be evaluated here.\n",
    "````"
   ]
  },
  {
   "cell_type": "code",
   "execution_count": 36,
   "metadata": {
    "trusted": true
   },
   "outputs": [],
   "source": [
    "import gc\n",
    "from scipy.sparse import csr_matrix"
   ]
  },
  {
   "cell_type": "code",
   "execution_count": 37,
   "metadata": {
    "trusted": true
   },
   "outputs": [
    {
     "data": {
      "text/plain": [
       "(array([[1, 1, 1, ..., 1, 1, 1],\n",
       "        [1, 1, 1, ..., 0, 0, 0],\n",
       "        [0, 0, 0, ..., 0, 0, 0],\n",
       "        ...,\n",
       "        [0, 0, 0, ..., 1, 0, 0],\n",
       "        [0, 0, 0, ..., 0, 1, 0],\n",
       "        [0, 0, 0, ..., 0, 0, 1]], dtype=int8),\n",
       " (42840, 30490))"
      ]
     },
     "execution_count": 37,
     "metadata": {},
     "output_type": "execute_result"
    }
   ],
   "source": [
    "# Get list of all products\n",
    "idcols = [\"id\", \"item_id\", \"state_id\", \"store_id\", \"cat_id\", \"dept_id\"]\n",
    "product = sales[idcols]\n",
    "\n",
    "# create weight matrix\n",
    "pd.get_dummies(product.state_id, drop_first=False)\n",
    "weight_mat = np.c_[\n",
    "   np.ones([NUM_ITEMS,1]).astype(np.int8), # level 1\n",
    "   pd.get_dummies(product.state_id, drop_first=False).values,\n",
    "   pd.get_dummies(product.store_id, drop_first=False).values,\n",
    "   pd.get_dummies(product.cat_id, drop_first=False).values,\n",
    "   pd.get_dummies(product.dept_id, drop_first=False).values,\n",
    "   pd.get_dummies(product.state_id + product.cat_id, drop_first=False).values,\n",
    "   pd.get_dummies(product.state_id + product.dept_id, drop_first=False).values,\n",
    "   pd.get_dummies(product.store_id + product.cat_id, drop_first=False).values,\n",
    "   pd.get_dummies(product.store_id + product.dept_id, drop_first=False).values,\n",
    "   pd.get_dummies(product.item_id, drop_first=False).values,\n",
    "   pd.get_dummies(product.state_id + product.item_id, drop_first=False).values,\n",
    "   np.identity(NUM_ITEMS).astype(np.int8) #item :level 12\n",
    "].T\n",
    "\n",
    "weight_mat = weight_mat.astype(\"int8\")\n",
    "weight_mat, weight_mat.shape\n",
    "# weight_mat.tofile(path2 + 'weights.csv', sep = ',')"
   ]
  },
  {
   "cell_type": "code",
   "execution_count": 38,
   "metadata": {
    "trusted": true
   },
   "outputs": [
    {
     "data": {
      "text/plain": [
       "20"
      ]
     },
     "execution_count": 38,
     "metadata": {},
     "output_type": "execute_result"
    }
   ],
   "source": [
    "weight_mat_csr = csr_matrix(weight_mat)\n",
    "del weight_mat; gc.collect()"
   ]
  },
  {
   "cell_type": "code",
   "execution_count": 40,
   "metadata": {
    "trusted": true
   },
   "outputs": [],
   "source": [
    "def cal_weight1(product):\n",
    "    sales_train_val = sales\n",
    "    d_name = ['d_' + str(i+1) for i in range(1913)]\n",
    "\n",
    "    sales_train_val = weight_mat_csr * sales_train_val[d_name].values\n",
    "\n",
    "\n",
    "    df_tmp = ((sales_train_val>0) * np.tile(np.arange(1,1914),(weight_mat_csr.shape[0],1)))\n",
    "\n",
    "    start_no = np.min(np.where(df_tmp==0,9999,df_tmp),axis=1)-1\n",
    "\n",
    "    flag = np.dot(np.diag(1/(start_no+1)) , np.tile(np.arange(1,1914),(weight_mat_csr.shape[0],1)))<1\n",
    "\n",
    "    sales_train_val = np.where(flag, np.nan, sales_train_val)\n",
    "\n",
    "    # denominator of RMSSE / RMSSE\n",
    "    weight1 = np.nansum(np.diff(sales_train_val,axis=1)**2,axis=1)/(1913-start_no)\n",
    "    \n",
    "    return weight1\n",
    "\n",
    "weight1 = cal_weight1(product)"
   ]
  },
  {
   "cell_type": "code",
   "execution_count": 43,
   "metadata": {
    "trusted": true
   },
   "outputs": [],
   "source": [
    "# Get the last 28 days for weight2\n",
    "cols = [\"d_{}\".format(i) for i in range(1886, 1886+28)]\n",
    "\n",
    "data = sales[[\"id\", 'store_id', 'item_id'] + cols]\n",
    "\n",
    "data = data.melt(id_vars=[\"id\", 'store_id', 'item_id'], var_name=\"d\", value_name=\"sale\")\n",
    "data = pd.merge(data, calendar, how = 'left', left_on = ['d'], right_on = ['d'])\n",
    "data = data[[\"id\", 'store_id', 'item_id', \"sale\", \"wm_yr_wk\"]]\n",
    "data = data.merge(sell_prices, on = ['store_id', 'item_id', 'wm_yr_wk'], how = 'left')\n"
   ]
  },
  {
   "cell_type": "code",
   "execution_count": 44,
   "metadata": {
    "trusted": true
   },
   "outputs": [
    {
     "data": {
      "text/plain": [
       "(42840,)"
      ]
     },
     "execution_count": 44,
     "metadata": {},
     "output_type": "execute_result"
    }
   ],
   "source": [
    "\n",
    "def cal_weight2(data):\n",
    "    # calculate the sales amount for each item/level\n",
    "    df_tmp = data\n",
    "    df_tmp['amount'] = df_tmp['sale'] * df_tmp['sell_price']\n",
    "    df_tmp =df_tmp.groupby(['id'])['amount'].apply(np.sum)\n",
    "    df_tmp = df_tmp.values\n",
    "    \n",
    "    weight2 = weight_mat_csr * df_tmp \n",
    "\n",
    "    weight2 = weight2/np.sum(weight2)\n",
    "    return weight2\n",
    "    \n",
    "weight2 = cal_weight2(data)\n",
    "weight2.shape"
   ]
  },
  {
   "cell_type": "code",
   "execution_count": 45,
   "metadata": {
    "trusted": true
   },
   "outputs": [],
   "source": [
    "def wrmsse(preds, y_true, DAYS_PRED):\n",
    "    # number of columns\n",
    "    num_col = DAYS_PRED\n",
    "\n",
    "    reshaped_preds = preds.reshape(num_col, NUM_ITEMS).T\n",
    "    reshaped_true = y_true.reshape(num_col, NUM_ITEMS).T\n",
    "    \n",
    "          \n",
    "    train = weight_mat_csr*np.c_[reshaped_preds, reshaped_true]\n",
    "    \n",
    "    score = np.sum(\n",
    "                np.sqrt(\n",
    "                    np.mean(\n",
    "                        np.square(\n",
    "                            train[:,:num_col] - train[:,num_col:])\n",
    "                        ,axis=1) / weight1) * weight2)\n",
    "    \n",
    "    return score"
   ]
  },
  {
   "cell_type": "code",
   "execution_count": 46,
   "metadata": {
    "trusted": true
   },
   "outputs": [
    {
     "name": "stdout",
     "output_type": "stream",
     "text": [
      "Weighted Room Mean Square Scaled Error =  1.0899503575724268\n"
     ]
    }
   ],
   "source": [
    "# WRMSSE score\n",
    "DAYS_PRED = 28\n",
    "dft = transform(df)\n",
    "gtt = transform(gt)\n",
    "wrmsse_score = wrmsse(dft[\"sale\"].to_numpy(), gtt[\"sale\"].to_numpy(), DAYS_PRED)\n",
    "print('Weighted Room Mean Square Scaled Error = ', wrmsse_score)\n"
   ]
  },
  {
   "cell_type": "code",
   "execution_count": null,
   "metadata": {
    "trusted": true
   },
   "outputs": [],
   "source": []
  }
 ],
 "metadata": {
  "kernelspec": {
   "display_name": "myenv",
   "language": "python",
   "name": "python3"
  },
  "language_info": {
   "codemirror_mode": {
    "name": "ipython",
    "version": 3
   },
   "file_extension": ".py",
   "mimetype": "text/x-python",
   "name": "python",
   "nbconvert_exporter": "python",
   "pygments_lexer": "ipython3",
   "version": "3.13.0"
  }
 },
 "nbformat": 4,
 "nbformat_minor": 4
}
